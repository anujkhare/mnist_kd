{
 "cells": [
  {
   "cell_type": "markdown",
   "metadata": {},
   "source": [
    "# MNIST train\n",
    "\n",
    "This is a part of some experiments for Knowledge Distillation.\n",
    "\n",
    "- Train an MNIST model\n",
    "- Train a smaller model (trainee) using Knowledge distillation\n",
    "    - Find optimal parameter configs\n",
    "- Compare with other training strategies\n",
    "    - Train the smaller model from scratch\n",
    "    - Train the smaller model from the trainee model's weights - does it diverge?\n",
    "- Relevant metrics\n",
    "    - Precision, recall, accuracy\n",
    "    - Time the models\n",
    "\n",
    "Other experiments to try:\n",
    "- Other datasets?\n",
    "- Mixture of experts -> one model somehow? (there'll be multiple soft targets OR mean them..)\n",
    "- KD wrt different architectures:\n",
    "    - ResNet -> ResNet?\n",
    "    - ResNet -> simpler architecture\n",
    "    - Simpler architecture to ResNet\n",
    "\n",
    "### Other unrelated ideas\n",
    "\n",
    "- Training strategies\n",
    "    - Training techniques and tricks\n",
    "        - Hard negative mining and how it helps\n",
    "    - Curriculum learning\n",
    "    - Annealing learning rates\n",
    "    - Cyclic learning rates\n",
    "    - Batch normalization"
   ]
  },
  {
   "cell_type": "code",
   "execution_count": 55,
   "metadata": {},
   "outputs": [],
   "source": [
    "import matplotlib.pyplot as plt\n",
    "\n",
    "import numpy as np\n",
    "import pandas as pd\n",
    "\n",
    "import torch\n",
    "from torch import autograd, nn, optim\n",
    "import torch.nn.functional as F"
   ]
  },
  {
   "cell_type": "code",
   "execution_count": 2,
   "metadata": {},
   "outputs": [
    {
     "name": "stdout",
     "output_type": "stream",
     "text": [
      "Populating the interactive namespace from numpy and matplotlib\n"
     ]
    }
   ],
   "source": [
    "%pylab inline"
   ]
  },
  {
   "cell_type": "markdown",
   "metadata": {},
   "source": [
    "## Data"
   ]
  },
  {
   "cell_type": "code",
   "execution_count": 3,
   "metadata": {},
   "outputs": [],
   "source": [
    "df_train_val = pd.read_csv('data/train.csv')"
   ]
  },
  {
   "cell_type": "code",
   "execution_count": 4,
   "metadata": {},
   "outputs": [],
   "source": [
    "df_test = pd.read_csv('data/test.csv')"
   ]
  },
  {
   "cell_type": "code",
   "execution_count": 5,
   "metadata": {},
   "outputs": [
    {
     "data": {
      "text/plain": [
       "((42000, 785), (28000, 784))"
      ]
     },
     "execution_count": 5,
     "metadata": {},
     "output_type": "execute_result"
    }
   ],
   "source": [
    "df_train_val.shape, df_test.shape"
   ]
  },
  {
   "cell_type": "code",
   "execution_count": 6,
   "metadata": {},
   "outputs": [
    {
     "data": {
      "text/plain": [
       "(array([4132., 4684., 4177., 4351., 4072., 3795., 4137., 4401., 4063.,\n",
       "        4188.]),\n",
       " array([0. , 0.9, 1.8, 2.7, 3.6, 4.5, 5.4, 6.3, 7.2, 8.1, 9. ]),\n",
       " <a list of 10 Patch objects>)"
      ]
     },
     "execution_count": 6,
     "metadata": {},
     "output_type": "execute_result"
    },
    {
     "data": {
      "image/png": "[encoded data removed]",
      "text/plain": [
       "<Figure size 432x288 with 1 Axes>"
      ]
     },
     "metadata": {},
     "output_type": "display_data"
    }
   ],
   "source": [
    "plt.hist(df_train_val.label)"
   ]
  },
  {
   "cell_type": "markdown",
   "metadata": {},
   "source": [
    "### Split train into train-val"
   ]
  },
  {
   "cell_type": "code",
   "execution_count": 7,
   "metadata": {},
   "outputs": [],
   "source": [
    "np.random.seed(1123)\n",
    "df_train_val = df_train_val.sample(frac=1)"
   ]
  },
  {
   "cell_type": "code",
   "execution_count": 8,
   "metadata": {},
   "outputs": [
    {
     "data": {
      "text/html": [
       "<div>\n",
       "<style scoped>\n",
       "    .dataframe tbody tr th:only-of-type {\n",
       "        vertical-align: middle;\n",
       "    }\n",
       "\n",
       "    .dataframe tbody tr th {\n",
       "        vertical-align: top;\n",
       "    }\n",
       "\n",
       "    .dataframe thead th {\n",
       "        text-align: right;\n",
       "    }\n",
       "</style>\n",
       "<table border=\"1\" class=\"dataframe\">\n",
       "  <thead>\n",
       "    <tr style=\"text-align: right;\">\n",
       "      <th></th>\n",
       "      <th>label</th>\n",
       "      <th>pixel0</th>\n",
       "      <th>pixel1</th>\n",
       "      <th>pixel2</th>\n",
       "      <th>pixel3</th>\n",
       "      <th>pixel4</th>\n",
       "      <th>pixel5</th>\n",
       "      <th>pixel6</th>\n",
       "      <th>pixel7</th>\n",
       "      <th>pixel8</th>\n",
       "      <th>...</th>\n",
       "      <th>pixel774</th>\n",
       "      <th>pixel775</th>\n",
       "      <th>pixel776</th>\n",
       "      <th>pixel777</th>\n",
       "      <th>pixel778</th>\n",
       "      <th>pixel779</th>\n",
       "      <th>pixel780</th>\n",
       "      <th>pixel781</th>\n",
       "      <th>pixel782</th>\n",
       "      <th>pixel783</th>\n",
       "    </tr>\n",
       "  </thead>\n",
       "  <tbody>\n",
       "    <tr>\n",
       "      <th>21290</th>\n",
       "      <td>2</td>\n",
       "      <td>0</td>\n",
       "      <td>0</td>\n",
       "      <td>0</td>\n",
       "      <td>0</td>\n",
       "      <td>0</td>\n",
       "      <td>0</td>\n",
       "      <td>0</td>\n",
       "      <td>0</td>\n",
       "      <td>0</td>\n",
       "      <td>...</td>\n",
       "      <td>0</td>\n",
       "      <td>0</td>\n",
       "      <td>0</td>\n",
       "      <td>0</td>\n",
       "      <td>0</td>\n",
       "      <td>0</td>\n",
       "      <td>0</td>\n",
       "      <td>0</td>\n",
       "      <td>0</td>\n",
       "      <td>0</td>\n",
       "    </tr>\n",
       "    <tr>\n",
       "      <th>19992</th>\n",
       "      <td>8</td>\n",
       "      <td>0</td>\n",
       "      <td>0</td>\n",
       "      <td>0</td>\n",
       "      <td>0</td>\n",
       "      <td>0</td>\n",
       "      <td>0</td>\n",
       "      <td>0</td>\n",
       "      <td>0</td>\n",
       "      <td>0</td>\n",
       "      <td>...</td>\n",
       "      <td>0</td>\n",
       "      <td>0</td>\n",
       "      <td>0</td>\n",
       "      <td>0</td>\n",
       "      <td>0</td>\n",
       "      <td>0</td>\n",
       "      <td>0</td>\n",
       "      <td>0</td>\n",
       "      <td>0</td>\n",
       "      <td>0</td>\n",
       "    </tr>\n",
       "    <tr>\n",
       "      <th>8221</th>\n",
       "      <td>1</td>\n",
       "      <td>0</td>\n",
       "      <td>0</td>\n",
       "      <td>0</td>\n",
       "      <td>0</td>\n",
       "      <td>0</td>\n",
       "      <td>0</td>\n",
       "      <td>0</td>\n",
       "      <td>0</td>\n",
       "      <td>0</td>\n",
       "      <td>...</td>\n",
       "      <td>0</td>\n",
       "      <td>0</td>\n",
       "      <td>0</td>\n",
       "      <td>0</td>\n",
       "      <td>0</td>\n",
       "      <td>0</td>\n",
       "      <td>0</td>\n",
       "      <td>0</td>\n",
       "      <td>0</td>\n",
       "      <td>0</td>\n",
       "    </tr>\n",
       "    <tr>\n",
       "      <th>33538</th>\n",
       "      <td>1</td>\n",
       "      <td>0</td>\n",
       "      <td>0</td>\n",
       "      <td>0</td>\n",
       "      <td>0</td>\n",
       "      <td>0</td>\n",
       "      <td>0</td>\n",
       "      <td>0</td>\n",
       "      <td>0</td>\n",
       "      <td>0</td>\n",
       "      <td>...</td>\n",
       "      <td>0</td>\n",
       "      <td>0</td>\n",
       "      <td>0</td>\n",
       "      <td>0</td>\n",
       "      <td>0</td>\n",
       "      <td>0</td>\n",
       "      <td>0</td>\n",
       "      <td>0</td>\n",
       "      <td>0</td>\n",
       "      <td>0</td>\n",
       "    </tr>\n",
       "    <tr>\n",
       "      <th>15284</th>\n",
       "      <td>7</td>\n",
       "      <td>0</td>\n",
       "      <td>0</td>\n",
       "      <td>0</td>\n",
       "      <td>0</td>\n",
       "      <td>0</td>\n",
       "      <td>0</td>\n",
       "      <td>0</td>\n",
       "      <td>0</td>\n",
       "      <td>0</td>\n",
       "      <td>...</td>\n",
       "      <td>0</td>\n",
       "      <td>0</td>\n",
       "      <td>0</td>\n",
       "      <td>0</td>\n",
       "      <td>0</td>\n",
       "      <td>0</td>\n",
       "      <td>0</td>\n",
       "      <td>0</td>\n",
       "      <td>0</td>\n",
       "      <td>0</td>\n",
       "    </tr>\n",
       "  </tbody>\n",
       "</table>\n",
       "<p>5 rows × 785 columns</p>\n",
       "</div>"
      ],
      "text/plain": [
       "       label  pixel0  pixel1  pixel2  pixel3  pixel4  pixel5  pixel6  pixel7  \\\n",
       "21290      2       0       0       0       0       0       0       0       0   \n",
       "19992      8       0       0       0       0       0       0       0       0   \n",
       "8221       1       0       0       0       0       0       0       0       0   \n",
       "33538      1       0       0       0       0       0       0       0       0   \n",
       "15284      7       0       0       0       0       0       0       0       0   \n",
       "\n",
       "       pixel8    ...     pixel774  pixel775  pixel776  pixel777  pixel778  \\\n",
       "21290       0    ...            0         0         0         0         0   \n",
       "19992       0    ...            0         0         0         0         0   \n",
       "8221        0    ...            0         0         0         0         0   \n",
       "33538       0    ...            0         0         0         0         0   \n",
       "15284       0    ...            0         0         0         0         0   \n",
       "\n",
       "       pixel779  pixel780  pixel781  pixel782  pixel783  \n",
       "21290         0         0         0         0         0  \n",
       "19992         0         0         0         0         0  \n",
       "8221          0         0         0         0         0  \n",
       "33538         0         0         0         0         0  \n",
       "15284         0         0         0         0         0  \n",
       "\n",
       "[5 rows x 785 columns]"
      ]
     },
     "execution_count": 8,
     "metadata": {},
     "output_type": "execute_result"
    }
   ],
   "source": [
    "df_train_val.head()"
   ]
  },
  {
   "cell_type": "code",
   "execution_count": 9,
   "metadata": {},
   "outputs": [],
   "source": [
    "val_frac = 0.1\n",
    "n_train = math.ceil((1-val_frac) * df_train_val.shape[0])\n",
    "\n",
    "df_train = df_train_val.iloc[:n_train]\n",
    "df_val = df_train_val.iloc[n_train:]\n",
    "\n",
    "assert df_train.shape[0] + df_val.shape[0] == df_train_val.shape[0]"
   ]
  },
  {
   "cell_type": "code",
   "execution_count": 10,
   "metadata": {},
   "outputs": [
    {
     "data": {
      "text/plain": [
       "(37800, 785)"
      ]
     },
     "execution_count": 10,
     "metadata": {},
     "output_type": "execute_result"
    }
   ],
   "source": [
    "df_train.shape"
   ]
  },
  {
   "cell_type": "code",
   "execution_count": 11,
   "metadata": {},
   "outputs": [],
   "source": [
    "n_train = math.ceil((1-val_frac) * df_train_val.shape[0])\n",
    "\n",
    "df_train = df_train_val.iloc[:n_train]\n",
    "df_val = df_train_val.iloc[n_train:]\n",
    "\n",
    "assert df_train.shape[0] + df_val.shape[0] == df_train_val.shape[0]"
   ]
  },
  {
   "cell_type": "code",
   "execution_count": 12,
   "metadata": {},
   "outputs": [
    {
     "data": {
      "text/plain": [
       "(4200, 785)"
      ]
     },
     "execution_count": 12,
     "metadata": {},
     "output_type": "execute_result"
    }
   ],
   "source": [
    "df_val.shape"
   ]
  },
  {
   "cell_type": "markdown",
   "metadata": {},
   "source": [
    "### Create dataloaders"
   ]
  },
  {
   "cell_type": "code",
   "execution_count": 13,
   "metadata": {},
   "outputs": [],
   "source": [
    "from typing import Tuple"
   ]
  },
  {
   "cell_type": "code",
   "execution_count": 14,
   "metadata": {},
   "outputs": [],
   "source": [
    "from torch.utils.data import dataloader"
   ]
  },
  {
   "cell_type": "code",
   "execution_count": 15,
   "metadata": {},
   "outputs": [],
   "source": [
    "import warnings"
   ]
  },
  {
   "cell_type": "code",
   "execution_count": 16,
   "metadata": {},
   "outputs": [],
   "source": [
    "def get_dataset(df) -> Tuple[np.array, np.array]:\n",
    "    if 'label' not in df:\n",
    "        warnings.warn('This dataframe does not have labels! Using default label = -100')\n",
    "        df = df.copy()\n",
    "        df['label'] = -100\n",
    "    \n",
    "    # Extract numpy arrays\n",
    "    labels = df['label'].values\n",
    "    images = df.drop('label', axis=1).values\n",
    "    assert len(labels) == len(images)\n",
    "    \n",
    "    # Reshape the images to make 28*28\n",
    "    images = images.reshape(-1, 1, 28, 28)\n",
    "    \n",
    "    # Pad to 32*32\n",
    "    images = np.pad(images, ((0, 0), (0, 0), (2, 2), (2, 2)), mode='constant', constant_values=0)\n",
    "\n",
    "    # Convert to pytorch Tensors\n",
    "    images = torch.FloatTensor(images.astype(np.float32))\n",
    "    labels = torch.LongTensor(labels.astype(np.int))\n",
    "    \n",
    "    # Create a dataset object\n",
    "    dataset = torch.utils.data.TensorDataset(images, labels)\n",
    "    assert len(dataset) == len(df)\n",
    "    return dataset"
   ]
  },
  {
   "cell_type": "code",
   "execution_count": 17,
   "metadata": {},
   "outputs": [
    {
     "name": "stdout",
     "output_type": "stream",
     "text": [
      "CPU times: user 4.64 s, sys: 1.62 s, total: 6.26 s\n",
      "Wall time: 1.66 s\n"
     ]
    }
   ],
   "source": [
    "%%time\n",
    "dataset_train = get_dataset(df_train)\n",
    "dataset_val = get_dataset(df_val)"
   ]
  },
  {
   "cell_type": "code",
   "execution_count": 18,
   "metadata": {},
   "outputs": [
    {
     "name": "stdout",
     "output_type": "stream",
     "text": [
      "37800\n",
      "4200\n"
     ]
    }
   ],
   "source": [
    "print(len(dataset_train))\n",
    "print(len(dataset_val))"
   ]
  },
  {
   "cell_type": "code",
   "execution_count": 19,
   "metadata": {},
   "outputs": [],
   "source": [
    "batch_size = 8"
   ]
  },
  {
   "cell_type": "code",
   "execution_count": 20,
   "metadata": {},
   "outputs": [],
   "source": [
    "dataloader_train = torch.utils.data.DataLoader(dataset_train, batch_size=batch_size, shuffle=True)\n",
    "dataloader_val = torch.utils.data.DataLoader(dataset_val, batch_size=batch_size, shuffle=True)\n",
    "\n",
    "# Check sizes\n",
    "for ix, _ in enumerate(dataloader_val):\n",
    "    pass\n",
    "assert (ix+1) * batch_size == len(dataset_val)\n",
    "\n",
    "for ix, _ in enumerate(dataloader_train):\n",
    "    pass\n",
    "assert (ix+1) * batch_size == len(dataset_train)"
   ]
  },
  {
   "cell_type": "markdown",
   "metadata": {},
   "source": [
    "### Test dataset"
   ]
  },
  {
   "cell_type": "code",
   "execution_count": 21,
   "metadata": {},
   "outputs": [
    {
     "name": "stderr",
     "output_type": "stream",
     "text": [
      "/home/anuj/miniconda3/envs/ocr/lib/python3.6/site-packages/ipykernel_launcher.py:3: UserWarning: This dataframe does not have labels! Using default label = -100\n",
      "  This is separate from the ipykernel package so we can avoid doing imports until\n"
     ]
    }
   ],
   "source": [
    "dataset_test = get_dataset(df_test)\n",
    "dataloader_test = torch.utils.data.DataLoader(dataset_test, batch_size=batch_size, shuffle=False)"
   ]
  },
  {
   "cell_type": "markdown",
   "metadata": {},
   "source": [
    "### Visualize a few images"
   ]
  },
  {
   "cell_type": "code",
   "execution_count": 22,
   "metadata": {},
   "outputs": [],
   "source": [
    "def visualize_batch(batch):\n",
    "    images, labels = batch\n",
    "    \n",
    "    plt.figure(figsize=(20, 10))\n",
    "\n",
    "    for ix in range(batch_size):\n",
    "        plt.subplot(1, batch_size, ix+1)\n",
    "        plt.imshow(images[ix].squeeze(), cmap='gray')\n",
    "        plt.title(labels[ix].data.numpy())"
   ]
  },
  {
   "cell_type": "code",
   "execution_count": 23,
   "metadata": {},
   "outputs": [
    {
     "data": {
      "image/png": "[encoded data removed]",
      "text/plain": [
       "<Figure size 1440x720 with 8 Axes>"
      ]
     },
     "metadata": {},
     "output_type": "display_data"
    },
    {
     "data": {
      "image/png": "[encoded data removed]",
      "text/plain": [
       "<Figure size 1440x720 with 8 Axes>"
      ]
     },
     "metadata": {},
     "output_type": "display_data"
    },
    {
     "data": {
      "image/png": "[encoded data removed]",
      "text/plain": [
       "<Figure size 1440x720 with 8 Axes>"
      ]
     },
     "metadata": {},
     "output_type": "display_data"
    },
    {
     "data": {
      "image/png": "[encoded data removed]",
      "text/plain": [
       "<Figure size 1440x720 with 8 Axes>"
      ]
     },
     "metadata": {},
     "output_type": "display_data"
    }
   ],
   "source": [
    "for ix, next_batch in enumerate(dataloader_train):\n",
    "    if ix >= 4:\n",
    "        break\n",
    "    visualize_batch(next_batch)"
   ]
  },
  {
   "cell_type": "code",
   "execution_count": 24,
   "metadata": {},
   "outputs": [
    {
     "data": {
      "image/png": "[encoded data removed]",
      "text/plain": [
       "<Figure size 1440x720 with 8 Axes>"
      ]
     },
     "metadata": {},
     "output_type": "display_data"
    },
    {
     "data": {
      "image/png": "[encoded data removed]",
      "text/plain": [
       "<Figure size 1440x720 with 8 Axes>"
      ]
     },
     "metadata": {},
     "output_type": "display_data"
    },
    {
     "data": {
      "image/png": "[encoded data removed]",
      "text/plain": [
       "<Figure size 1440x720 with 8 Axes>"
      ]
     },
     "metadata": {},
     "output_type": "display_data"
    },
    {
     "data": {
      "image/png": "[encoded data removed]",
      "text/plain": [
       "<Figure size 1440x720 with 8 Axes>"
      ]
     },
     "metadata": {},
     "output_type": "display_data"
    }
   ],
   "source": [
    "for ix, next_batch in enumerate(dataloader_val):\n",
    "    if ix >= 4:\n",
    "        break\n",
    "    visualize_batch(next_batch)"
   ]
  },
  {
   "cell_type": "code",
   "execution_count": 25,
   "metadata": {},
   "outputs": [
    {
     "data": {
      "image/png": "[encoded data removed]",
      "text/plain": [
       "<Figure size 1440x720 with 8 Axes>"
      ]
     },
     "metadata": {},
     "output_type": "display_data"
    },
    {
     "data": {
      "image/png": "[encoded data removed]",
      "text/plain": [
       "<Figure size 1440x720 with 8 Axes>"
      ]
     },
     "metadata": {},
     "output_type": "display_data"
    },
    {
     "data": {
      "image/png": "[encoded data removed]",
      "text/plain": [
       "<Figure size 1440x720 with 8 Axes>"
      ]
     },
     "metadata": {},
     "output_type": "display_data"
    },
    {
     "data": {
      "image/png": "[encoded data removed]",
      "text/plain": [
       "<Figure size 1440x720 with 8 Axes>"
      ]
     },
     "metadata": {},
     "output_type": "display_data"
    }
   ],
   "source": [
    "for ix, next_batch in enumerate(dataloader_test):\n",
    "    if ix >= 4:\n",
    "        break\n",
    "    visualize_batch(next_batch)"
   ]
  },
  {
   "cell_type": "markdown",
   "metadata": {},
   "source": [
    "### Get the relative label weights"
   ]
  },
  {
   "cell_type": "code",
   "execution_count": 26,
   "metadata": {},
   "outputs": [],
   "source": [
    "loss_weights = np.bincount(df_train_val['label'])"
   ]
  },
  {
   "cell_type": "code",
   "execution_count": 27,
   "metadata": {},
   "outputs": [],
   "source": [
    "loss_weights = 1. / loss_weights\n",
    "loss_weights = loss_weights / loss_weights.sum()"
   ]
  },
  {
   "cell_type": "code",
   "execution_count": 28,
   "metadata": {},
   "outputs": [
    {
     "data": {
      "text/plain": [
       "Text(0,0.5,'Loss weight')"
      ]
     },
     "execution_count": 28,
     "metadata": {},
     "output_type": "execute_result"
    },
    {
     "data": {
      "image/png": "[encoded data removed]",
      "text/plain": [
       "<Figure size 1440x360 with 2 Axes>"
      ]
     },
     "metadata": {},
     "output_type": "display_data"
    }
   ],
   "source": [
    "plt.figure(figsize=(20, 5))\n",
    "plt.subplot(1, 2, 1)\n",
    "plt.hist(df_train['label'])\n",
    "plt.title('Histogram of Train label frequencies')\n",
    "plt.xlabel('Label')\n",
    "plt.ylabel('Frequency')\n",
    "\n",
    "plt.subplot(1, 2, 2)\n",
    "plt.plot(loss_weights)\n",
    "plt.title('Loss weights given to each Train label')\n",
    "plt.xlabel('Label')\n",
    "plt.ylabel('Loss weight')"
   ]
  },
  {
   "cell_type": "code",
   "execution_count": 29,
   "metadata": {},
   "outputs": [],
   "source": [
    "del df_train, df_val, df_train_val"
   ]
  },
  {
   "cell_type": "markdown",
   "metadata": {},
   "source": [
    "## Model"
   ]
  },
  {
   "cell_type": "code",
   "execution_count": 30,
   "metadata": {},
   "outputs": [],
   "source": [
    "import os\n",
    "import pathlib\n",
    "import tensorboardX"
   ]
  },
  {
   "cell_type": "code",
   "execution_count": 31,
   "metadata": {},
   "outputs": [
    {
     "data": {
      "text/plain": [
       "4200"
      ]
     },
     "execution_count": 31,
     "metadata": {},
     "output_type": "execute_result"
    }
   ],
   "source": [
    "len(dataset_val)"
   ]
  },
  {
   "cell_type": "code",
   "execution_count": 50,
   "metadata": {},
   "outputs": [],
   "source": [
    "def forward_once(model, batch, loss=None):\n",
    "    images, labels = batch\n",
    "    images = images.cuda()\n",
    "    labels = labels.cuda()\n",
    "    \n",
    "    preds = model(images)\n",
    "    error = None\n",
    "    if loss is not None:\n",
    "        error = loss(preds, labels)\n",
    "    return preds, error\n",
    "\n",
    "\n",
    "def predict(model, dataloader, first_n=-1):\n",
    "    list_all_preds = []\n",
    "    for iteration, next_batch in enumerate(dataloader):\n",
    "        preds, _ = forward_once(model, next_batch)\n",
    "        preds = torch.argmax(preds, dim=1).data.cpu().numpy()\n",
    "        list_all_preds += list(preds)\n",
    "\n",
    "        if first_n > 0 and iteration + 1 >= first_n:\n",
    "            break\n",
    "\n",
    "    return np.array(list_all_preds)\n",
    "        \n",
    "\n",
    "def validate_model(model, dataloader, loss, n_iters=10, plot=True):\n",
    "    assert n_iters > 0\n",
    "    model.train(False)\n",
    "\n",
    "    total_acc = 0\n",
    "    total_error = 0\n",
    "    for iteration, next_batch in enumerate(dataloader):\n",
    "        preds, error = forward_once(model, next_batch, loss)\n",
    "        preds = torch.argmax(preds, dim=1).data.cpu().numpy()\n",
    "        acc = np.mean(preds == next_batch[1].numpy())\n",
    "        \n",
    "        total_error += error.data.cpu().numpy()\n",
    "        total_acc += acc\n",
    "\n",
    "        if iteration + 1 >= n_iters:\n",
    "            break\n",
    "\n",
    "    mean_acc = total_acc / (iteration+1)\n",
    "    mean_error = total_error / (iteration+1)\n",
    "\n",
    "    if plot:\n",
    "        visualize_batch(next_batch)\n",
    "        print('Preds:', preds)\n",
    "        plt.show()\n",
    "\n",
    "    model.train(True)\n",
    "    \n",
    "    return mean_error, mean_acc\n",
    "\n",
    "\n",
    "def train(model, n_epochs=100, val_every=1000, log_every=100):\n",
    "    \"\"\"\n",
    "    NOTE: DEPENDS ON MANY GLOBAL VARIABLES!\n",
    "    \"\"\"\n",
    "    model.train(True)\n",
    "    epochs = np.arange(n_epochs)\n",
    "\n",
    "    total_iters = 0\n",
    "    for epoch in epochs:\n",
    "        for iteration, next_batch in enumerate(dataloader_train):\n",
    "            total_iters += 1\n",
    "            optimizer.zero_grad()\n",
    "            preds, error = forward_once(model, next_batch, loss)\n",
    "            error.backward()\n",
    "            optimizer.step()\n",
    "\n",
    "            # calculate acc\n",
    "            preds = torch.argmax(preds, dim=1).data.cpu().numpy()\n",
    "            acc_train = np.mean(preds == next_batch[1].numpy())\n",
    "\n",
    "            if iteration % log_every == 0:\n",
    "                writer.add_scalar('train.loss', error.data.cpu().numpy(), total_iters)\n",
    "                writer.add_scalar('train.acc', acc_train, total_iters)\n",
    "\n",
    "            if iteration % val_every == 0:\n",
    "                err_val, acc_val = validate_model(model, dataloader_val, loss)\n",
    "\n",
    "                print('Epoch: {}, Iteration: {}'.format(epoch, total_iters))\n",
    "                print('Loss: {:.4f}, Accuracy: {:.2f}%'.format(err_val, acc_val*100))\n",
    "                writer.add_scalar('val.loss', err_val, total_iters)\n",
    "                writer.add_scalar('val.acc', acc_val, total_iters)\n",
    "\n",
    "        # Save every epoch\n",
    "        torch.save(model.state_dict(), path_to_weights / '{}.pt'.format(epoch))"
   ]
  },
  {
   "cell_type": "markdown",
   "metadata": {},
   "source": [
    "### Create a simple model"
   ]
  },
  {
   "cell_type": "code",
   "execution_count": 33,
   "metadata": {},
   "outputs": [],
   "source": [
    "class Net(nn.Module):\n",
    "    @staticmethod\n",
    "    def _make_encoder(n_in, n_out):\n",
    "        return nn.Sequential(\n",
    "            nn.Conv2d(in_channels=n_in, out_channels=n_out, kernel_size=3, padding=1),\n",
    "            nn.ReLU(inplace=True),\n",
    "#             nn.BatchNorm2d(num_features=n_out),\n",
    "        )\n",
    "\n",
    "    def __init__(self,) -> None:\n",
    "        super().__init__()\n",
    "        self.low_feat = self._make_encoder(1, 8)\n",
    "        \n",
    "        self.encoders = nn.Sequential(\n",
    "            self._make_encoder(8, 16),\n",
    "            nn.MaxPool2d(kernel_size=2, stride=2, padding=0),\n",
    "            self._make_encoder(16, 32),\n",
    "            nn.MaxPool2d(kernel_size=2, stride=2, padding=0),\n",
    "            self._make_encoder(32, 64),\n",
    "            nn.MaxPool2d(kernel_size=2, stride=2, padding=0),\n",
    "            self._make_encoder(64, 128),\n",
    "            nn.MaxPool2d(kernel_size=2, stride=2, padding=0),\n",
    "        )\n",
    "        \n",
    "        self.linears = nn.Sequential(\n",
    "            nn.Linear(512, 512),\n",
    "            nn.Linear(512, 512),\n",
    "        )\n",
    "        \n",
    "        self.classifier = nn.Linear(512, 10)\n",
    "    \n",
    "    def forward(self, x):\n",
    "        feats = self.low_feat(x)\n",
    "        encoded = self.encoders(feats).view(-1, 512)\n",
    "        preds = self.linears(encoded)\n",
    "        preds = self.classifier(preds)\n",
    "        return F.log_softmax(preds, dim=1)"
   ]
  },
  {
   "cell_type": "code",
   "execution_count": 34,
   "metadata": {},
   "outputs": [],
   "source": [
    "def get_model_and_params(model_cls, gpu=None):\n",
    "    # Test run!\n",
    "    model = model_cls()\n",
    "\n",
    "    img = torch.from_numpy(np.random.rand(1, 1, 32, 32).astype(np.float32))\n",
    "    assert model(img).shape[1] == 10 and model(img).shape[0] == 1\n",
    "\n",
    "    count = 0\n",
    "    params = []\n",
    "    for param in model.parameters():\n",
    "        if param.requires_grad:\n",
    "            count += np.prod(param.shape)\n",
    "            params.append(param)\n",
    "\n",
    "    print('{:,} trainable paramaters!'.format(count))\n",
    "    if gpu is not None:\n",
    "        model = model.cuda(device=gpu)\n",
    "\n",
    "    return model, params"
   ]
  },
  {
   "cell_type": "markdown",
   "metadata": {},
   "source": [
    "### Train"
   ]
  },
  {
   "cell_type": "code",
   "execution_count": 35,
   "metadata": {
    "scrolled": false
   },
   "outputs": [
    {
     "name": "stdout",
     "output_type": "stream",
     "text": [
      "628,682 trainable paramaters!\n"
     ]
    }
   ],
   "source": [
    "model, params = get_model_and_params(Net, gpu=0)"
   ]
  },
  {
   "cell_type": "code",
   "execution_count": 36,
   "metadata": {},
   "outputs": [],
   "source": [
    "loss_weights = torch.FloatTensor(loss_weights)\n",
    "\n",
    "loss = nn.NLLLoss(weight=loss_weights).cuda()\n",
    "optimizer = optim.SGD(params, lr=1e-3)"
   ]
  },
  {
   "cell_type": "code",
   "execution_count": 37,
   "metadata": {},
   "outputs": [],
   "source": [
    "# Weights and logging directories\n",
    "model_str = 'MNIST-big-1.09'\n",
    "\n",
    "path_to_weights = pathlib.Path('/opt/anuj/weights') / model_str\n",
    "path_to_log_s = '../tensorboard_logs/{}'.format(model_str)\n",
    "\n",
    "# To prevent over-writing!\n",
    "os.makedirs(str(path_to_weights), exist_ok=True)\n",
    "writer = tensorboardX.SummaryWriter(path_to_log_s)"
   ]
  },
  {
   "cell_type": "code",
   "execution_count": null,
   "metadata": {},
   "outputs": [],
   "source": [
    "train(model)"
   ]
  },
  {
   "cell_type": "markdown",
   "metadata": {},
   "source": [
    "## Test"
   ]
  },
  {
   "cell_type": "code",
   "execution_count": 38,
   "metadata": {},
   "outputs": [],
   "source": [
    "model.load_state_dict(torch.load('/opt/anuj/weights/MNIST-big-1.09/18.pt'))"
   ]
  },
  {
   "cell_type": "code",
   "execution_count": 46,
   "metadata": {},
   "outputs": [
    {
     "name": "stdout",
     "output_type": "stream",
     "text": [
      "Preds: [3 2 3 5 4 3 2 9]\n"
     ]
    },
    {
     "data": {
      "image/png": "[encoded data removed]",
      "text/plain": [
       "<Figure size 1440x720 with 8 Axes>"
      ]
     },
     "metadata": {},
     "output_type": "display_data"
    },
    {
     "data": {
      "text/plain": [
       "(0.0383974468514501, 0.991)"
      ]
     },
     "execution_count": 46,
     "metadata": {},
     "output_type": "execute_result"
    }
   ],
   "source": [
    "validate_model(model, dataloader_val, loss, n_iters=500)"
   ]
  },
  {
   "cell_type": "code",
   "execution_count": 52,
   "metadata": {},
   "outputs": [
    {
     "name": "stdout",
     "output_type": "stream",
     "text": [
      "CPU times: user 2.98 s, sys: 45.4 ms, total: 3.03 s\n",
      "Wall time: 3.02 s\n"
     ]
    }
   ],
   "source": [
    "%%time\n",
    "test_labels = predict(model, dataloader_test, first_n=-1)"
   ]
  },
  {
   "cell_type": "code",
   "execution_count": 53,
   "metadata": {},
   "outputs": [
    {
     "data": {
      "text/plain": [
       "28000"
      ]
     },
     "execution_count": 53,
     "metadata": {},
     "output_type": "execute_result"
    }
   ],
   "source": [
    "len(test_labels)"
   ]
  },
  {
   "cell_type": "code",
   "execution_count": 56,
   "metadata": {},
   "outputs": [],
   "source": [
    "df_test['pred_labels'] = test_labels"
   ]
  },
  {
   "cell_type": "code",
   "execution_count": 54,
   "metadata": {
    "scrolled": true
   },
   "outputs": [
    {
     "data": {
      "text/plain": [
       "array([2, 0, 9, 0, 3, 7, 0, 3, 0, 3])"
      ]
     },
     "execution_count": 54,
     "metadata": {},
     "output_type": "execute_result"
    }
   ],
   "source": [
    "test_labels[:10]"
   ]
  },
  {
   "cell_type": "code",
   "execution_count": 64,
   "metadata": {},
   "outputs": [],
   "source": [
    "df_test['ImageId'] = df_test.index + 1"
   ]
  },
  {
   "cell_type": "code",
   "execution_count": 66,
   "metadata": {},
   "outputs": [],
   "source": [
    "df_test[['ImageId', 'pred_labels']].rename({'pred_labels': 'Label'}, axis=1)\\\n",
    "                                   .to_csv('test_pred.csvd.csv', index=False)"
   ]
  },
  {
   "cell_type": "code",
   "execution_count": null,
   "metadata": {},
   "outputs": [],
   "source": []
  },
  {
   "cell_type": "code",
   "execution_count": null,
   "metadata": {},
   "outputs": [],
   "source": []
  },
  {
   "cell_type": "code",
   "execution_count": null,
   "metadata": {},
   "outputs": [],
   "source": []
  },
  {
   "cell_type": "code",
   "execution_count": null,
   "metadata": {},
   "outputs": [],
   "source": []
  },
  {
   "cell_type": "code",
   "execution_count": null,
   "metadata": {},
   "outputs": [],
   "source": []
  },
  {
   "cell_type": "code",
   "execution_count": null,
   "metadata": {},
   "outputs": [],
   "source": []
  },
  {
   "cell_type": "code",
   "execution_count": null,
   "metadata": {},
   "outputs": [],
   "source": []
  },
  {
   "cell_type": "code",
   "execution_count": null,
   "metadata": {},
   "outputs": [],
   "source": []
  },
  {
   "cell_type": "code",
   "execution_count": null,
   "metadata": {},
   "outputs": [],
   "source": []
  }
 ],
 "metadata": {
  "kernelspec": {
   "display_name": "Python 3",
   "language": "python",
   "name": "python3"
  },
  "language_info": {
   "codemirror_mode": {
    "name": "ipython",
    "version": 3
   },
   "file_extension": ".py",
   "mimetype": "text/x-python",
   "name": "python",
   "nbconvert_exporter": "python",
   "pygments_lexer": "ipython3",
   "version": "3.6.6"
  }
 },
 "nbformat": 4,
 "nbformat_minor": 2
}
